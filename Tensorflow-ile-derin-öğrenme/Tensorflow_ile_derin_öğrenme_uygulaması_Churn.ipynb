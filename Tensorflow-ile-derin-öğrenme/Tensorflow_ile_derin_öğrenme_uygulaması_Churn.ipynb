{
  "nbformat": 4,
  "nbformat_minor": 0,
  "metadata": {
    "colab": {
      "provenance": [],
      "collapsed_sections": []
    },
    "kernelspec": {
      "name": "python3",
      "display_name": "Python 3"
    },
    "language_info": {
      "name": "python"
    }
  },
  "cells": [
    {
      "cell_type": "code",
      "execution_count": null,
      "metadata": {
        "id": "o6N7GgBoQz-l"
      },
      "outputs": [],
      "source": [
        "import pandas as pd\n",
        "from sklearn.model_selection import train_test_split"
      ]
    },
    {
      "cell_type": "code",
      "source": [
        "df = pd.read_csv('is_memnuniyeti_2.csv')"
      ],
      "metadata": {
        "id": "B75xzib4ROvQ"
      },
      "execution_count": null,
      "outputs": []
    },
    {
      "cell_type": "code",
      "source": [
        "df"
      ],
      "metadata": {
        "id": "JHPKVw5JInUU"
      },
      "execution_count": null,
      "outputs": []
    },
    {
      "cell_type": "code",
      "source": [
        "X = pd.get_dummies(df.drop(['Churn', 'Customer ID', 'Monthly Charges', 'Total Charges'], axis=1))\n",
        "y = df['Churn'].apply(lambda x: 1 if x=='Yes' else 0)"
      ],
      "metadata": {
        "id": "XLwerhUFRUQA"
      },
      "execution_count": null,
      "outputs": []
    },
    {
      "cell_type": "code",
      "source": [
        "X_train, X_test, y_train, y_test = train_test_split(X, y, test_size=.2)"
      ],
      "metadata": {
        "id": "7VrTSnH4Szso"
      },
      "execution_count": null,
      "outputs": []
    },
    {
      "cell_type": "code",
      "source": [
        "X_train.head()"
      ],
      "metadata": {
        "id": "KgdtYtCq0cTU"
      },
      "execution_count": null,
      "outputs": []
    },
    {
      "cell_type": "code",
      "source": [
        "y_train.head()"
      ],
      "metadata": {
        "id": "IHuQVOy-S4YW",
        "colab": {
          "base_uri": "https://localhost:8080/"
        },
        "outputId": "c3488c13-200a-4015-856b-3b95c95ea69b"
      },
      "execution_count": null,
      "outputs": [
        {
          "output_type": "execute_result",
          "data": {
            "text/plain": [
              "6327    0\n",
              "2040    1\n",
              "5058    0\n",
              "1570    0\n",
              "2501    0\n",
              "Name: Churn, dtype: int64"
            ]
          },
          "metadata": {},
          "execution_count": 7
        }
      ]
    },
    {
      "cell_type": "code",
      "source": [
        "from tensorflow.keras.models import Sequential, load_model\n",
        "from tensorflow.keras.layers import Dense\n",
        "from sklearn.metrics import accuracy_score"
      ],
      "metadata": {
        "id": "YGbkSN9nS-in"
      },
      "execution_count": null,
      "outputs": []
    },
    {
      "cell_type": "code",
      "source": [
        "model = Sequential()\n",
        "model.add(Dense(units=32, activation='relu', input_dim=len(X_train.columns)))\n",
        "model.add(Dense(units=64, activation='relu'))\n",
        "model.add(Dense(units=1, activation='sigmoid'))"
      ],
      "metadata": {
        "id": "CAyPcuK7TDSG"
      },
      "execution_count": null,
      "outputs": []
    },
    {
      "cell_type": "code",
      "source": [
        "model.compile(loss='binary_crossentropy', optimizer='sgd', metrics='accuracy')"
      ],
      "metadata": {
        "id": "ERNOrrb0TO9u"
      },
      "execution_count": null,
      "outputs": []
    },
    {
      "cell_type": "code",
      "source": [
        "model.fit(X_train, y_train, epochs=200, batch_size=32)"
      ],
      "metadata": {
        "id": "LU1FIotxTQXA",
        "colab": {
          "base_uri": "https://localhost:8080/"
        },
        "outputId": "13cde8f8-d703-4a7d-afd6-d9ea25071d40"
      },
      "execution_count": null,
      "outputs": [
        {
          "output_type": "stream",
          "name": "stdout",
          "text": [
            "Epoch 1/200\n",
            "177/177 [==============================] - 1s 2ms/step - loss: 0.5339 - accuracy: 0.7288\n",
            "Epoch 2/200\n",
            "177/177 [==============================] - 0s 2ms/step - loss: 0.4946 - accuracy: 0.7656\n",
            "Epoch 3/200\n",
            "177/177 [==============================] - 0s 2ms/step - loss: 0.4808 - accuracy: 0.7839\n",
            "Epoch 4/200\n",
            "177/177 [==============================] - 0s 2ms/step - loss: 0.4649 - accuracy: 0.7917\n",
            "Epoch 5/200\n",
            "177/177 [==============================] - 0s 2ms/step - loss: 0.4586 - accuracy: 0.7913\n",
            "Epoch 6/200\n",
            "177/177 [==============================] - 0s 2ms/step - loss: 0.4525 - accuracy: 0.7938\n",
            "Epoch 7/200\n",
            "177/177 [==============================] - 0s 2ms/step - loss: 0.4452 - accuracy: 0.7934\n",
            "Epoch 8/200\n",
            "177/177 [==============================] - 0s 2ms/step - loss: 0.4441 - accuracy: 0.7924\n",
            "Epoch 9/200\n",
            "177/177 [==============================] - 0s 2ms/step - loss: 0.4374 - accuracy: 0.7982\n",
            "Epoch 10/200\n",
            "177/177 [==============================] - 0s 2ms/step - loss: 0.4354 - accuracy: 0.7963\n",
            "Epoch 11/200\n",
            "177/177 [==============================] - 0s 2ms/step - loss: 0.4335 - accuracy: 0.7972\n",
            "Epoch 12/200\n",
            "177/177 [==============================] - 0s 2ms/step - loss: 0.4377 - accuracy: 0.7966\n",
            "Epoch 13/200\n",
            "177/177 [==============================] - 0s 2ms/step - loss: 0.4300 - accuracy: 0.8012\n",
            "Epoch 14/200\n",
            "177/177 [==============================] - 0s 2ms/step - loss: 0.4362 - accuracy: 0.7956\n",
            "Epoch 15/200\n",
            "177/177 [==============================] - 0s 2ms/step - loss: 0.4269 - accuracy: 0.8012\n",
            "Epoch 16/200\n",
            "177/177 [==============================] - 0s 2ms/step - loss: 0.4263 - accuracy: 0.8000\n",
            "Epoch 17/200\n",
            "177/177 [==============================] - 0s 2ms/step - loss: 0.4283 - accuracy: 0.7996\n",
            "Epoch 18/200\n",
            "177/177 [==============================] - 0s 2ms/step - loss: 0.4224 - accuracy: 0.8025\n",
            "Epoch 19/200\n",
            "177/177 [==============================] - 0s 2ms/step - loss: 0.4261 - accuracy: 0.8005\n",
            "Epoch 20/200\n",
            "177/177 [==============================] - 0s 2ms/step - loss: 0.4233 - accuracy: 0.8002\n",
            "Epoch 21/200\n",
            "177/177 [==============================] - 0s 2ms/step - loss: 0.4234 - accuracy: 0.7970\n",
            "Epoch 22/200\n",
            "177/177 [==============================] - 0s 2ms/step - loss: 0.4264 - accuracy: 0.8012\n",
            "Epoch 23/200\n",
            "177/177 [==============================] - 0s 2ms/step - loss: 0.4235 - accuracy: 0.8014\n",
            "Epoch 24/200\n",
            "177/177 [==============================] - 0s 2ms/step - loss: 0.4200 - accuracy: 0.8050\n",
            "Epoch 25/200\n",
            "177/177 [==============================] - 0s 2ms/step - loss: 0.4227 - accuracy: 0.8014\n",
            "Epoch 26/200\n",
            "177/177 [==============================] - 0s 2ms/step - loss: 0.4230 - accuracy: 0.8018\n",
            "Epoch 27/200\n",
            "177/177 [==============================] - 0s 2ms/step - loss: 0.4203 - accuracy: 0.8035\n",
            "Epoch 28/200\n",
            "177/177 [==============================] - 0s 2ms/step - loss: 0.4207 - accuracy: 0.8009\n",
            "Epoch 29/200\n",
            "177/177 [==============================] - 0s 2ms/step - loss: 0.4207 - accuracy: 0.8021\n",
            "Epoch 30/200\n",
            "177/177 [==============================] - 0s 2ms/step - loss: 0.4208 - accuracy: 0.8021\n",
            "Epoch 31/200\n",
            "177/177 [==============================] - 0s 2ms/step - loss: 0.4215 - accuracy: 0.8046\n",
            "Epoch 32/200\n",
            "177/177 [==============================] - 0s 2ms/step - loss: 0.4203 - accuracy: 0.7988\n",
            "Epoch 33/200\n",
            "177/177 [==============================] - 0s 2ms/step - loss: 0.4182 - accuracy: 0.8048\n",
            "Epoch 34/200\n",
            "177/177 [==============================] - 0s 2ms/step - loss: 0.4188 - accuracy: 0.8025\n",
            "Epoch 35/200\n",
            "177/177 [==============================] - 0s 2ms/step - loss: 0.4194 - accuracy: 0.8007\n",
            "Epoch 36/200\n",
            "177/177 [==============================] - 0s 2ms/step - loss: 0.4175 - accuracy: 0.8048\n",
            "Epoch 37/200\n",
            "177/177 [==============================] - 0s 2ms/step - loss: 0.4212 - accuracy: 0.7995\n",
            "Epoch 38/200\n",
            "177/177 [==============================] - 0s 2ms/step - loss: 0.4168 - accuracy: 0.8025\n",
            "Epoch 39/200\n",
            "177/177 [==============================] - 0s 2ms/step - loss: 0.4192 - accuracy: 0.8020\n",
            "Epoch 40/200\n",
            "177/177 [==============================] - 0s 2ms/step - loss: 0.4174 - accuracy: 0.8051\n",
            "Epoch 41/200\n",
            "177/177 [==============================] - 0s 2ms/step - loss: 0.4159 - accuracy: 0.8021\n",
            "Epoch 42/200\n",
            "177/177 [==============================] - 0s 2ms/step - loss: 0.4161 - accuracy: 0.8050\n",
            "Epoch 43/200\n",
            "177/177 [==============================] - 0s 2ms/step - loss: 0.4182 - accuracy: 0.8048\n",
            "Epoch 44/200\n",
            "177/177 [==============================] - 0s 2ms/step - loss: 0.4151 - accuracy: 0.8073\n",
            "Epoch 45/200\n",
            "177/177 [==============================] - 0s 2ms/step - loss: 0.4152 - accuracy: 0.8016\n",
            "Epoch 46/200\n",
            "177/177 [==============================] - 0s 2ms/step - loss: 0.4134 - accuracy: 0.8030\n",
            "Epoch 47/200\n",
            "177/177 [==============================] - 0s 2ms/step - loss: 0.4149 - accuracy: 0.8076\n",
            "Epoch 48/200\n",
            "177/177 [==============================] - 0s 2ms/step - loss: 0.4147 - accuracy: 0.8057\n",
            "Epoch 49/200\n",
            "177/177 [==============================] - 0s 2ms/step - loss: 0.4169 - accuracy: 0.8023\n",
            "Epoch 50/200\n",
            "177/177 [==============================] - 0s 2ms/step - loss: 0.4151 - accuracy: 0.8034\n",
            "Epoch 51/200\n",
            "177/177 [==============================] - 0s 2ms/step - loss: 0.4154 - accuracy: 0.8046\n",
            "Epoch 52/200\n",
            "177/177 [==============================] - 0s 2ms/step - loss: 0.4131 - accuracy: 0.8057\n",
            "Epoch 53/200\n",
            "177/177 [==============================] - 0s 2ms/step - loss: 0.4140 - accuracy: 0.8053\n",
            "Epoch 54/200\n",
            "177/177 [==============================] - 0s 2ms/step - loss: 0.4140 - accuracy: 0.8034\n",
            "Epoch 55/200\n",
            "177/177 [==============================] - 0s 2ms/step - loss: 0.4142 - accuracy: 0.8051\n",
            "Epoch 56/200\n",
            "177/177 [==============================] - 0s 2ms/step - loss: 0.4172 - accuracy: 0.8051\n",
            "Epoch 57/200\n",
            "177/177 [==============================] - 0s 2ms/step - loss: 0.4159 - accuracy: 0.8044\n",
            "Epoch 58/200\n",
            "177/177 [==============================] - 0s 2ms/step - loss: 0.4223 - accuracy: 0.8005\n",
            "Epoch 59/200\n",
            "177/177 [==============================] - 0s 2ms/step - loss: 0.4130 - accuracy: 0.8043\n",
            "Epoch 60/200\n",
            "177/177 [==============================] - 0s 2ms/step - loss: 0.4139 - accuracy: 0.8082\n",
            "Epoch 61/200\n",
            "177/177 [==============================] - 0s 2ms/step - loss: 0.4116 - accuracy: 0.8066\n",
            "Epoch 62/200\n",
            "177/177 [==============================] - 0s 2ms/step - loss: 0.4115 - accuracy: 0.8106\n",
            "Epoch 63/200\n",
            "177/177 [==============================] - 0s 2ms/step - loss: 0.4133 - accuracy: 0.8060\n",
            "Epoch 64/200\n",
            "177/177 [==============================] - 0s 2ms/step - loss: 0.4121 - accuracy: 0.8064\n",
            "Epoch 65/200\n",
            "177/177 [==============================] - 0s 2ms/step - loss: 0.4113 - accuracy: 0.8048\n",
            "Epoch 66/200\n",
            "177/177 [==============================] - 0s 2ms/step - loss: 0.4126 - accuracy: 0.8050\n",
            "Epoch 67/200\n",
            "177/177 [==============================] - 0s 2ms/step - loss: 0.4115 - accuracy: 0.8060\n",
            "Epoch 68/200\n",
            "177/177 [==============================] - 0s 2ms/step - loss: 0.4110 - accuracy: 0.8071\n",
            "Epoch 69/200\n",
            "177/177 [==============================] - 0s 2ms/step - loss: 0.4107 - accuracy: 0.8069\n",
            "Epoch 70/200\n",
            "177/177 [==============================] - 0s 2ms/step - loss: 0.4106 - accuracy: 0.8076\n",
            "Epoch 71/200\n",
            "177/177 [==============================] - 0s 2ms/step - loss: 0.4111 - accuracy: 0.8091\n",
            "Epoch 72/200\n",
            "177/177 [==============================] - 0s 2ms/step - loss: 0.4120 - accuracy: 0.8080\n",
            "Epoch 73/200\n",
            "177/177 [==============================] - 0s 2ms/step - loss: 0.4118 - accuracy: 0.8062\n",
            "Epoch 74/200\n",
            "177/177 [==============================] - 0s 2ms/step - loss: 0.4108 - accuracy: 0.8076\n",
            "Epoch 75/200\n",
            "177/177 [==============================] - 0s 2ms/step - loss: 0.4118 - accuracy: 0.8055\n",
            "Epoch 76/200\n",
            "177/177 [==============================] - 0s 2ms/step - loss: 0.4120 - accuracy: 0.8096\n",
            "Epoch 77/200\n",
            "177/177 [==============================] - 0s 2ms/step - loss: 0.4131 - accuracy: 0.8028\n",
            "Epoch 78/200\n",
            "177/177 [==============================] - 0s 2ms/step - loss: 0.4115 - accuracy: 0.8073\n",
            "Epoch 79/200\n",
            "177/177 [==============================] - 0s 2ms/step - loss: 0.4105 - accuracy: 0.8062\n",
            "Epoch 80/200\n",
            "177/177 [==============================] - 0s 2ms/step - loss: 0.4096 - accuracy: 0.8060\n",
            "Epoch 81/200\n",
            "177/177 [==============================] - 0s 2ms/step - loss: 0.4078 - accuracy: 0.8069\n",
            "Epoch 82/200\n",
            "177/177 [==============================] - 0s 2ms/step - loss: 0.4109 - accuracy: 0.8044\n",
            "Epoch 83/200\n",
            "177/177 [==============================] - 0s 2ms/step - loss: 0.4102 - accuracy: 0.8089\n",
            "Epoch 84/200\n",
            "177/177 [==============================] - 0s 2ms/step - loss: 0.4095 - accuracy: 0.8082\n",
            "Epoch 85/200\n",
            "177/177 [==============================] - 0s 2ms/step - loss: 0.4108 - accuracy: 0.8069\n",
            "Epoch 86/200\n",
            "177/177 [==============================] - 0s 2ms/step - loss: 0.4084 - accuracy: 0.8067\n",
            "Epoch 87/200\n",
            "177/177 [==============================] - 0s 2ms/step - loss: 0.4088 - accuracy: 0.8053\n",
            "Epoch 88/200\n",
            "177/177 [==============================] - 0s 2ms/step - loss: 0.4082 - accuracy: 0.8080\n",
            "Epoch 89/200\n",
            "177/177 [==============================] - 0s 2ms/step - loss: 0.4088 - accuracy: 0.8034\n",
            "Epoch 90/200\n",
            "177/177 [==============================] - 0s 2ms/step - loss: 0.4080 - accuracy: 0.8062\n",
            "Epoch 91/200\n",
            "177/177 [==============================] - 0s 2ms/step - loss: 0.4088 - accuracy: 0.8051\n",
            "Epoch 92/200\n",
            "177/177 [==============================] - 0s 2ms/step - loss: 0.4088 - accuracy: 0.8044\n",
            "Epoch 93/200\n",
            "177/177 [==============================] - 0s 2ms/step - loss: 0.4116 - accuracy: 0.8087\n",
            "Epoch 94/200\n",
            "177/177 [==============================] - 0s 2ms/step - loss: 0.4082 - accuracy: 0.8096\n",
            "Epoch 95/200\n",
            "177/177 [==============================] - 0s 2ms/step - loss: 0.4072 - accuracy: 0.8101\n",
            "Epoch 96/200\n",
            "177/177 [==============================] - 0s 2ms/step - loss: 0.4069 - accuracy: 0.8078\n",
            "Epoch 97/200\n",
            "177/177 [==============================] - 0s 2ms/step - loss: 0.4086 - accuracy: 0.8076\n",
            "Epoch 98/200\n",
            "177/177 [==============================] - 0s 2ms/step - loss: 0.4076 - accuracy: 0.8114\n",
            "Epoch 99/200\n",
            "177/177 [==============================] - 0s 2ms/step - loss: 0.4074 - accuracy: 0.8078\n",
            "Epoch 100/200\n",
            "177/177 [==============================] - 0s 2ms/step - loss: 0.4087 - accuracy: 0.8075\n",
            "Epoch 101/200\n",
            "177/177 [==============================] - 0s 2ms/step - loss: 0.4070 - accuracy: 0.8096\n",
            "Epoch 102/200\n",
            "177/177 [==============================] - 0s 2ms/step - loss: 0.4078 - accuracy: 0.8089\n",
            "Epoch 103/200\n",
            "177/177 [==============================] - 0s 2ms/step - loss: 0.4083 - accuracy: 0.8055\n",
            "Epoch 104/200\n",
            "177/177 [==============================] - 0s 2ms/step - loss: 0.4068 - accuracy: 0.8087\n",
            "Epoch 105/200\n",
            "177/177 [==============================] - 0s 2ms/step - loss: 0.4084 - accuracy: 0.8112\n",
            "Epoch 106/200\n",
            "177/177 [==============================] - 0s 2ms/step - loss: 0.4074 - accuracy: 0.8075\n",
            "Epoch 107/200\n",
            "177/177 [==============================] - 0s 2ms/step - loss: 0.4081 - accuracy: 0.8039\n",
            "Epoch 108/200\n",
            "177/177 [==============================] - 0s 2ms/step - loss: 0.4069 - accuracy: 0.8083\n",
            "Epoch 109/200\n",
            "177/177 [==============================] - 0s 2ms/step - loss: 0.4074 - accuracy: 0.8103\n",
            "Epoch 110/200\n",
            "177/177 [==============================] - 0s 2ms/step - loss: 0.4070 - accuracy: 0.8101\n",
            "Epoch 111/200\n",
            "177/177 [==============================] - 0s 2ms/step - loss: 0.4086 - accuracy: 0.8085\n",
            "Epoch 112/200\n",
            "177/177 [==============================] - 0s 2ms/step - loss: 0.4067 - accuracy: 0.8094\n",
            "Epoch 113/200\n",
            "177/177 [==============================] - 0s 2ms/step - loss: 0.4073 - accuracy: 0.8106\n",
            "Epoch 114/200\n",
            "177/177 [==============================] - 0s 2ms/step - loss: 0.4072 - accuracy: 0.8053\n",
            "Epoch 115/200\n",
            "177/177 [==============================] - 0s 2ms/step - loss: 0.4047 - accuracy: 0.8114\n",
            "Epoch 116/200\n",
            "177/177 [==============================] - 0s 2ms/step - loss: 0.4079 - accuracy: 0.8098\n",
            "Epoch 117/200\n",
            "177/177 [==============================] - 0s 2ms/step - loss: 0.4052 - accuracy: 0.8133\n",
            "Epoch 118/200\n",
            "177/177 [==============================] - 0s 2ms/step - loss: 0.4070 - accuracy: 0.8075\n",
            "Epoch 119/200\n",
            "177/177 [==============================] - 0s 2ms/step - loss: 0.4048 - accuracy: 0.8076\n",
            "Epoch 120/200\n",
            "177/177 [==============================] - 0s 2ms/step - loss: 0.4055 - accuracy: 0.8119\n",
            "Epoch 121/200\n",
            "177/177 [==============================] - 0s 2ms/step - loss: 0.4071 - accuracy: 0.8073\n",
            "Epoch 122/200\n",
            "177/177 [==============================] - 0s 2ms/step - loss: 0.4057 - accuracy: 0.8119\n",
            "Epoch 123/200\n",
            "177/177 [==============================] - 0s 2ms/step - loss: 0.4051 - accuracy: 0.8087\n",
            "Epoch 124/200\n",
            "177/177 [==============================] - 0s 2ms/step - loss: 0.4056 - accuracy: 0.8124\n",
            "Epoch 125/200\n",
            "177/177 [==============================] - 0s 2ms/step - loss: 0.4071 - accuracy: 0.8091\n",
            "Epoch 126/200\n",
            "177/177 [==============================] - 0s 2ms/step - loss: 0.4054 - accuracy: 0.8114\n",
            "Epoch 127/200\n",
            "177/177 [==============================] - 0s 2ms/step - loss: 0.4066 - accuracy: 0.8089\n",
            "Epoch 128/200\n",
            "177/177 [==============================] - 0s 2ms/step - loss: 0.4047 - accuracy: 0.8085\n",
            "Epoch 129/200\n",
            "177/177 [==============================] - 0s 2ms/step - loss: 0.4051 - accuracy: 0.8087\n",
            "Epoch 130/200\n",
            "177/177 [==============================] - 0s 2ms/step - loss: 0.4047 - accuracy: 0.8087\n",
            "Epoch 131/200\n",
            "177/177 [==============================] - 0s 2ms/step - loss: 0.4053 - accuracy: 0.8089\n",
            "Epoch 132/200\n",
            "177/177 [==============================] - 0s 2ms/step - loss: 0.4046 - accuracy: 0.8083\n",
            "Epoch 133/200\n",
            "177/177 [==============================] - 0s 2ms/step - loss: 0.4074 - accuracy: 0.8106\n",
            "Epoch 134/200\n",
            "177/177 [==============================] - 0s 2ms/step - loss: 0.4046 - accuracy: 0.8112\n",
            "Epoch 135/200\n",
            "177/177 [==============================] - 0s 2ms/step - loss: 0.4053 - accuracy: 0.8103\n",
            "Epoch 136/200\n",
            "177/177 [==============================] - 0s 2ms/step - loss: 0.4038 - accuracy: 0.8126\n",
            "Epoch 137/200\n",
            "177/177 [==============================] - 0s 3ms/step - loss: 0.4039 - accuracy: 0.8094\n",
            "Epoch 138/200\n",
            "177/177 [==============================] - 1s 3ms/step - loss: 0.4046 - accuracy: 0.8076\n",
            "Epoch 139/200\n",
            "177/177 [==============================] - 1s 3ms/step - loss: 0.4045 - accuracy: 0.8119\n",
            "Epoch 140/200\n",
            "177/177 [==============================] - 1s 3ms/step - loss: 0.4043 - accuracy: 0.8133\n",
            "Epoch 141/200\n",
            "177/177 [==============================] - 1s 3ms/step - loss: 0.4041 - accuracy: 0.8101\n",
            "Epoch 142/200\n",
            "177/177 [==============================] - 0s 2ms/step - loss: 0.4058 - accuracy: 0.8101\n",
            "Epoch 143/200\n",
            "177/177 [==============================] - 0s 2ms/step - loss: 0.4048 - accuracy: 0.8124\n",
            "Epoch 144/200\n",
            "177/177 [==============================] - 0s 2ms/step - loss: 0.4091 - accuracy: 0.8078\n",
            "Epoch 145/200\n",
            "177/177 [==============================] - 0s 2ms/step - loss: 0.4034 - accuracy: 0.8115\n",
            "Epoch 146/200\n",
            "177/177 [==============================] - 0s 2ms/step - loss: 0.4045 - accuracy: 0.8130\n",
            "Epoch 147/200\n",
            "177/177 [==============================] - 0s 2ms/step - loss: 0.4028 - accuracy: 0.8112\n",
            "Epoch 148/200\n",
            "177/177 [==============================] - 0s 2ms/step - loss: 0.4045 - accuracy: 0.8099\n",
            "Epoch 149/200\n",
            "177/177 [==============================] - 0s 2ms/step - loss: 0.4048 - accuracy: 0.8106\n",
            "Epoch 150/200\n",
            "177/177 [==============================] - 0s 2ms/step - loss: 0.4037 - accuracy: 0.8112\n",
            "Epoch 151/200\n",
            "177/177 [==============================] - 0s 2ms/step - loss: 0.4045 - accuracy: 0.8110\n",
            "Epoch 152/200\n",
            "177/177 [==============================] - 0s 2ms/step - loss: 0.4036 - accuracy: 0.8112\n",
            "Epoch 153/200\n",
            "177/177 [==============================] - 0s 2ms/step - loss: 0.4042 - accuracy: 0.8130\n",
            "Epoch 154/200\n",
            "177/177 [==============================] - 0s 2ms/step - loss: 0.4050 - accuracy: 0.8121\n",
            "Epoch 155/200\n",
            "177/177 [==============================] - 0s 2ms/step - loss: 0.4024 - accuracy: 0.8124\n",
            "Epoch 156/200\n",
            "177/177 [==============================] - 0s 2ms/step - loss: 0.4034 - accuracy: 0.8115\n",
            "Epoch 157/200\n",
            "177/177 [==============================] - 0s 2ms/step - loss: 0.4032 - accuracy: 0.8122\n",
            "Epoch 158/200\n",
            "177/177 [==============================] - 1s 4ms/step - loss: 0.4052 - accuracy: 0.8122\n",
            "Epoch 159/200\n",
            "177/177 [==============================] - 1s 4ms/step - loss: 0.4021 - accuracy: 0.8124\n",
            "Epoch 160/200\n",
            "177/177 [==============================] - 0s 2ms/step - loss: 0.4026 - accuracy: 0.8122\n",
            "Epoch 161/200\n",
            "177/177 [==============================] - 0s 2ms/step - loss: 0.4059 - accuracy: 0.8092\n",
            "Epoch 162/200\n",
            "177/177 [==============================] - 1s 4ms/step - loss: 0.4041 - accuracy: 0.8115\n",
            "Epoch 163/200\n",
            "177/177 [==============================] - 0s 2ms/step - loss: 0.4030 - accuracy: 0.8094\n",
            "Epoch 164/200\n",
            "177/177 [==============================] - 0s 3ms/step - loss: 0.4031 - accuracy: 0.8098\n",
            "Epoch 165/200\n",
            "177/177 [==============================] - 1s 6ms/step - loss: 0.4027 - accuracy: 0.8114\n",
            "Epoch 166/200\n",
            "177/177 [==============================] - 0s 2ms/step - loss: 0.4027 - accuracy: 0.8106\n",
            "Epoch 167/200\n",
            "177/177 [==============================] - 1s 4ms/step - loss: 0.4024 - accuracy: 0.8137\n",
            "Epoch 168/200\n",
            "177/177 [==============================] - 0s 2ms/step - loss: 0.4021 - accuracy: 0.8138\n",
            "Epoch 169/200\n",
            "177/177 [==============================] - 0s 2ms/step - loss: 0.4007 - accuracy: 0.8119\n",
            "Epoch 170/200\n",
            "177/177 [==============================] - 0s 2ms/step - loss: 0.4023 - accuracy: 0.8153\n",
            "Epoch 171/200\n",
            "177/177 [==============================] - 0s 2ms/step - loss: 0.4026 - accuracy: 0.8149\n",
            "Epoch 172/200\n",
            "177/177 [==============================] - 0s 2ms/step - loss: 0.4019 - accuracy: 0.8133\n",
            "Epoch 173/200\n",
            "177/177 [==============================] - 0s 2ms/step - loss: 0.4023 - accuracy: 0.8117\n",
            "Epoch 174/200\n",
            "177/177 [==============================] - 0s 2ms/step - loss: 0.4023 - accuracy: 0.8121\n",
            "Epoch 175/200\n",
            "177/177 [==============================] - 0s 2ms/step - loss: 0.4028 - accuracy: 0.8135\n",
            "Epoch 176/200\n",
            "177/177 [==============================] - 0s 2ms/step - loss: 0.4018 - accuracy: 0.8108\n",
            "Epoch 177/200\n",
            "177/177 [==============================] - 0s 2ms/step - loss: 0.4011 - accuracy: 0.8106\n",
            "Epoch 178/200\n",
            "177/177 [==============================] - 0s 2ms/step - loss: 0.4017 - accuracy: 0.8078\n",
            "Epoch 179/200\n",
            "177/177 [==============================] - 0s 2ms/step - loss: 0.4015 - accuracy: 0.8099\n",
            "Epoch 180/200\n",
            "177/177 [==============================] - 0s 2ms/step - loss: 0.4021 - accuracy: 0.8106\n",
            "Epoch 181/200\n",
            "177/177 [==============================] - 0s 2ms/step - loss: 0.4022 - accuracy: 0.8144\n",
            "Epoch 182/200\n",
            "177/177 [==============================] - 0s 2ms/step - loss: 0.4008 - accuracy: 0.8108\n",
            "Epoch 183/200\n",
            "177/177 [==============================] - 0s 2ms/step - loss: 0.4013 - accuracy: 0.8119\n",
            "Epoch 184/200\n",
            "177/177 [==============================] - 0s 2ms/step - loss: 0.4112 - accuracy: 0.8060\n",
            "Epoch 185/200\n",
            "177/177 [==============================] - 0s 2ms/step - loss: 0.4054 - accuracy: 0.8096\n",
            "Epoch 186/200\n",
            "177/177 [==============================] - 0s 2ms/step - loss: 0.4018 - accuracy: 0.8117\n",
            "Epoch 187/200\n",
            "177/177 [==============================] - 0s 2ms/step - loss: 0.4029 - accuracy: 0.8115\n",
            "Epoch 188/200\n",
            "177/177 [==============================] - 0s 2ms/step - loss: 0.4006 - accuracy: 0.8142\n",
            "Epoch 189/200\n",
            "177/177 [==============================] - 0s 2ms/step - loss: 0.4025 - accuracy: 0.8146\n",
            "Epoch 190/200\n",
            "177/177 [==============================] - 0s 2ms/step - loss: 0.4009 - accuracy: 0.8121\n",
            "Epoch 191/200\n",
            "177/177 [==============================] - 0s 2ms/step - loss: 0.4017 - accuracy: 0.8133\n",
            "Epoch 192/200\n",
            "177/177 [==============================] - 0s 2ms/step - loss: 0.4012 - accuracy: 0.8128\n",
            "Epoch 193/200\n",
            "177/177 [==============================] - 0s 2ms/step - loss: 0.4057 - accuracy: 0.8137\n",
            "Epoch 194/200\n",
            "177/177 [==============================] - 0s 2ms/step - loss: 0.4013 - accuracy: 0.8138\n",
            "Epoch 195/200\n",
            "177/177 [==============================] - 0s 2ms/step - loss: 0.4029 - accuracy: 0.8133\n",
            "Epoch 196/200\n",
            "177/177 [==============================] - 0s 2ms/step - loss: 0.3999 - accuracy: 0.8160\n",
            "Epoch 197/200\n",
            "177/177 [==============================] - 0s 2ms/step - loss: 0.3999 - accuracy: 0.8174\n",
            "Epoch 198/200\n",
            "177/177 [==============================] - 0s 2ms/step - loss: 0.4021 - accuracy: 0.8126\n",
            "Epoch 199/200\n",
            "177/177 [==============================] - 0s 2ms/step - loss: 0.4018 - accuracy: 0.8135\n",
            "Epoch 200/200\n",
            "177/177 [==============================] - 0s 2ms/step - loss: 0.4009 - accuracy: 0.8135\n"
          ]
        },
        {
          "output_type": "execute_result",
          "data": {
            "text/plain": [
              "<keras.callbacks.History at 0x7efe64675d10>"
            ]
          },
          "metadata": {},
          "execution_count": 11
        }
      ]
    },
    {
      "cell_type": "code",
      "source": [
        "y_hat = model.predict(X_test)\n",
        "y_hat = [0 if val < 0.5 else 1 for val in y_hat]"
      ],
      "metadata": {
        "id": "wk0L81hmULcR"
      },
      "execution_count": null,
      "outputs": []
    },
    {
      "cell_type": "code",
      "source": [
        "y_hat"
      ],
      "metadata": {
        "id": "lHcUMF7gUV03"
      },
      "execution_count": null,
      "outputs": []
    },
    {
      "cell_type": "code",
      "source": [
        "accuracy_score(y_test, y_hat)"
      ],
      "metadata": {
        "id": "n18K1cafUcMW",
        "colab": {
          "base_uri": "https://localhost:8080/"
        },
        "outputId": "24a0e1be-6fb1-4bf2-db95-9a6575ae6628"
      },
      "execution_count": null,
      "outputs": [
        {
          "output_type": "execute_result",
          "data": {
            "text/plain": [
              "0.40809084457061745"
            ]
          },
          "metadata": {},
          "execution_count": 14
        }
      ]
    },
    {
      "cell_type": "code",
      "source": [
        "model.save('tfmodel')"
      ],
      "metadata": {
        "id": "uugBW8BmUkLe"
      },
      "execution_count": null,
      "outputs": []
    },
    {
      "cell_type": "code",
      "source": [
        "del model "
      ],
      "metadata": {
        "id": "3Z94No4VUzsY"
      },
      "execution_count": null,
      "outputs": []
    },
    {
      "cell_type": "code",
      "source": [
        "model = load_model('tfmodel')"
      ],
      "metadata": {
        "id": "T0vBvm-jU6-W"
      },
      "execution_count": null,
      "outputs": []
    }
  ]
}