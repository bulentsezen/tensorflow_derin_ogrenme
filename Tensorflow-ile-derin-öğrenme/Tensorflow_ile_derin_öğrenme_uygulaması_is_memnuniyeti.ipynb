{
  "nbformat": 4,
  "nbformat_minor": 0,
  "metadata": {
    "colab": {
      "provenance": [],
      "collapsed_sections": []
    },
    "kernelspec": {
      "name": "python3",
      "display_name": "Python 3"
    },
    "language_info": {
      "name": "python"
    }
  },
  "cells": [
    {
      "cell_type": "code",
      "execution_count": 1,
      "metadata": {
        "id": "o6N7GgBoQz-l"
      },
      "outputs": [],
      "source": [
        "import pandas as pd\n",
        "from sklearn.model_selection import train_test_split"
      ]
    },
    {
      "cell_type": "code",
      "source": [
        "df = pd.read_csv('is_memnuniyeti_2.csv')"
      ],
      "metadata": {
        "id": "B75xzib4ROvQ"
      },
      "execution_count": 2,
      "outputs": []
    },
    {
      "cell_type": "code",
      "source": [
        "df"
      ],
      "metadata": {
        "id": "afNR6x5Ls9Xk"
      },
      "execution_count": null,
      "outputs": []
    },
    {
      "cell_type": "code",
      "source": [
        "X = pd.get_dummies(df.drop(['left'], axis=1))\n",
        "y = df['left'].apply(lambda x: 1 if x==1 else 0)"
      ],
      "metadata": {
        "id": "XLwerhUFRUQA"
      },
      "execution_count": 4,
      "outputs": []
    },
    {
      "cell_type": "code",
      "source": [
        "X_train, X_test, y_train, y_test = train_test_split(X, y, test_size=.2)"
      ],
      "metadata": {
        "id": "7VrTSnH4Szso"
      },
      "execution_count": 12,
      "outputs": []
    },
    {
      "cell_type": "code",
      "source": [
        "X_train.head()"
      ],
      "metadata": {
        "id": "9OKDAj8H2CHa"
      },
      "execution_count": null,
      "outputs": []
    },
    {
      "cell_type": "code",
      "source": [
        "y_train.head()"
      ],
      "metadata": {
        "id": "IHuQVOy-S4YW",
        "colab": {
          "base_uri": "https://localhost:8080/"
        },
        "outputId": "25c55a88-9650-4fd7-9844-ac186ab08ef7"
      },
      "execution_count": 14,
      "outputs": [
        {
          "output_type": "execute_result",
          "data": {
            "text/plain": [
              "132      1\n",
              "2909     0\n",
              "12431    1\n",
              "13521    0\n",
              "10807    0\n",
              "Name: left, dtype: int64"
            ]
          },
          "metadata": {},
          "execution_count": 14
        }
      ]
    },
    {
      "cell_type": "code",
      "source": [
        "from tensorflow.keras.models import Sequential, load_model\n",
        "from tensorflow.keras.layers import Dense\n",
        "from sklearn.metrics import accuracy_score"
      ],
      "metadata": {
        "id": "YGbkSN9nS-in"
      },
      "execution_count": 15,
      "outputs": []
    },
    {
      "cell_type": "code",
      "source": [
        "model = Sequential()\n",
        "model.add(Dense(units=32, activation='relu', input_dim=len(X_train.columns)))\n",
        "model.add(Dense(units=64, activation='relu'))\n",
        "model.add(Dense(units=1, activation='sigmoid'))"
      ],
      "metadata": {
        "id": "CAyPcuK7TDSG"
      },
      "execution_count": 16,
      "outputs": []
    },
    {
      "cell_type": "code",
      "source": [
        "model.compile(loss='binary_crossentropy', optimizer='sgd', metrics='accuracy')"
      ],
      "metadata": {
        "id": "ERNOrrb0TO9u"
      },
      "execution_count": 17,
      "outputs": []
    },
    {
      "cell_type": "code",
      "source": [
        "model.fit(X_train, y_train, epochs=200, batch_size=32)"
      ],
      "metadata": {
        "id": "LU1FIotxTQXA",
        "colab": {
          "base_uri": "https://localhost:8080/"
        },
        "outputId": "46001f29-b37a-4993-f478-014eefc1cf70"
      },
      "execution_count": 18,
      "outputs": [
        {
          "output_type": "stream",
          "name": "stdout",
          "text": [
            "Epoch 1/200\n",
            "375/375 [==============================] - 1s 2ms/step - loss: 0.8216 - accuracy: 0.7562\n",
            "Epoch 2/200\n",
            "375/375 [==============================] - 1s 2ms/step - loss: 0.4772 - accuracy: 0.7586\n",
            "Epoch 3/200\n",
            "375/375 [==============================] - 1s 2ms/step - loss: 0.4645 - accuracy: 0.7586\n",
            "Epoch 4/200\n",
            "375/375 [==============================] - 1s 2ms/step - loss: 0.4622 - accuracy: 0.7601\n",
            "Epoch 5/200\n",
            "375/375 [==============================] - 1s 2ms/step - loss: 0.4502 - accuracy: 0.7611\n",
            "Epoch 6/200\n",
            "375/375 [==============================] - 1s 2ms/step - loss: 0.4506 - accuracy: 0.7556\n",
            "Epoch 7/200\n",
            "375/375 [==============================] - 1s 2ms/step - loss: 0.4405 - accuracy: 0.7596\n",
            "Epoch 8/200\n",
            "375/375 [==============================] - 1s 2ms/step - loss: 0.4341 - accuracy: 0.7660\n",
            "Epoch 9/200\n",
            "375/375 [==============================] - 1s 2ms/step - loss: 0.4388 - accuracy: 0.7612\n",
            "Epoch 10/200\n",
            "375/375 [==============================] - 1s 2ms/step - loss: 0.4279 - accuracy: 0.7691\n",
            "Epoch 11/200\n",
            "375/375 [==============================] - 1s 2ms/step - loss: 0.4253 - accuracy: 0.7684\n",
            "Epoch 12/200\n",
            "375/375 [==============================] - 1s 2ms/step - loss: 0.4225 - accuracy: 0.7736\n",
            "Epoch 13/200\n",
            "375/375 [==============================] - 1s 2ms/step - loss: 0.4207 - accuracy: 0.7762\n",
            "Epoch 14/200\n",
            "375/375 [==============================] - 1s 2ms/step - loss: 0.4189 - accuracy: 0.7738\n",
            "Epoch 15/200\n",
            "375/375 [==============================] - 1s 2ms/step - loss: 0.4170 - accuracy: 0.7749\n",
            "Epoch 16/200\n",
            "375/375 [==============================] - 1s 2ms/step - loss: 0.4152 - accuracy: 0.7790\n",
            "Epoch 17/200\n",
            "375/375 [==============================] - 1s 2ms/step - loss: 0.4151 - accuracy: 0.7791\n",
            "Epoch 18/200\n",
            "375/375 [==============================] - 1s 2ms/step - loss: 0.4147 - accuracy: 0.7814\n",
            "Epoch 19/200\n",
            "375/375 [==============================] - 1s 2ms/step - loss: 0.4140 - accuracy: 0.7837\n",
            "Epoch 20/200\n",
            "375/375 [==============================] - 1s 2ms/step - loss: 0.4122 - accuracy: 0.7819\n",
            "Epoch 21/200\n",
            "375/375 [==============================] - 1s 2ms/step - loss: 0.4124 - accuracy: 0.7812\n",
            "Epoch 22/200\n",
            "375/375 [==============================] - 1s 2ms/step - loss: 0.4137 - accuracy: 0.7787\n",
            "Epoch 23/200\n",
            "375/375 [==============================] - 1s 2ms/step - loss: 0.4110 - accuracy: 0.7801\n",
            "Epoch 24/200\n",
            "375/375 [==============================] - 1s 2ms/step - loss: 0.4126 - accuracy: 0.7833\n",
            "Epoch 25/200\n",
            "375/375 [==============================] - 1s 2ms/step - loss: 0.4113 - accuracy: 0.7865\n",
            "Epoch 26/200\n",
            "375/375 [==============================] - 1s 2ms/step - loss: 0.4103 - accuracy: 0.7852\n",
            "Epoch 27/200\n",
            "375/375 [==============================] - 1s 2ms/step - loss: 0.4100 - accuracy: 0.7846\n",
            "Epoch 28/200\n",
            "375/375 [==============================] - 1s 2ms/step - loss: 0.4104 - accuracy: 0.7846\n",
            "Epoch 29/200\n",
            "375/375 [==============================] - 1s 2ms/step - loss: 0.4089 - accuracy: 0.7892\n",
            "Epoch 30/200\n",
            "375/375 [==============================] - 1s 2ms/step - loss: 0.4087 - accuracy: 0.7888\n",
            "Epoch 31/200\n",
            "375/375 [==============================] - 1s 2ms/step - loss: 0.4098 - accuracy: 0.7868\n",
            "Epoch 32/200\n",
            "375/375 [==============================] - 1s 2ms/step - loss: 0.4070 - accuracy: 0.7906\n",
            "Epoch 33/200\n",
            "375/375 [==============================] - 1s 2ms/step - loss: 0.4077 - accuracy: 0.7880\n",
            "Epoch 34/200\n",
            "375/375 [==============================] - 1s 2ms/step - loss: 0.4046 - accuracy: 0.7920\n",
            "Epoch 35/200\n",
            "375/375 [==============================] - 1s 2ms/step - loss: 0.4059 - accuracy: 0.7892\n",
            "Epoch 36/200\n",
            "375/375 [==============================] - 1s 2ms/step - loss: 0.4064 - accuracy: 0.7847\n",
            "Epoch 37/200\n",
            "375/375 [==============================] - 1s 2ms/step - loss: 0.4058 - accuracy: 0.7884\n",
            "Epoch 38/200\n",
            "375/375 [==============================] - 1s 2ms/step - loss: 0.4047 - accuracy: 0.7895\n",
            "Epoch 39/200\n",
            "375/375 [==============================] - 1s 2ms/step - loss: 0.4058 - accuracy: 0.7871\n",
            "Epoch 40/200\n",
            "375/375 [==============================] - 1s 2ms/step - loss: 0.4046 - accuracy: 0.7926\n",
            "Epoch 41/200\n",
            "375/375 [==============================] - 1s 2ms/step - loss: 0.4020 - accuracy: 0.7911\n",
            "Epoch 42/200\n",
            "375/375 [==============================] - 1s 2ms/step - loss: 0.4055 - accuracy: 0.7893\n",
            "Epoch 43/200\n",
            "375/375 [==============================] - 1s 2ms/step - loss: 0.4026 - accuracy: 0.7917\n",
            "Epoch 44/200\n",
            "375/375 [==============================] - 1s 2ms/step - loss: 0.4039 - accuracy: 0.7881\n",
            "Epoch 45/200\n",
            "375/375 [==============================] - 1s 2ms/step - loss: 0.4021 - accuracy: 0.7897\n",
            "Epoch 46/200\n",
            "375/375 [==============================] - 1s 2ms/step - loss: 0.4010 - accuracy: 0.7935\n",
            "Epoch 47/200\n",
            "375/375 [==============================] - 1s 2ms/step - loss: 0.4014 - accuracy: 0.7932\n",
            "Epoch 48/200\n",
            "375/375 [==============================] - 1s 2ms/step - loss: 0.4020 - accuracy: 0.7920\n",
            "Epoch 49/200\n",
            "375/375 [==============================] - 1s 2ms/step - loss: 0.4014 - accuracy: 0.7921\n",
            "Epoch 50/200\n",
            "375/375 [==============================] - 1s 2ms/step - loss: 0.4010 - accuracy: 0.7913\n",
            "Epoch 51/200\n",
            "375/375 [==============================] - 1s 2ms/step - loss: 0.4022 - accuracy: 0.7905\n",
            "Epoch 52/200\n",
            "375/375 [==============================] - 1s 2ms/step - loss: 0.4002 - accuracy: 0.7946\n",
            "Epoch 53/200\n",
            "375/375 [==============================] - 1s 2ms/step - loss: 0.4011 - accuracy: 0.7919\n",
            "Epoch 54/200\n",
            "375/375 [==============================] - 1s 2ms/step - loss: 0.3989 - accuracy: 0.7932\n",
            "Epoch 55/200\n",
            "375/375 [==============================] - 1s 2ms/step - loss: 0.4011 - accuracy: 0.7919\n",
            "Epoch 56/200\n",
            "375/375 [==============================] - 1s 2ms/step - loss: 0.3994 - accuracy: 0.7916\n",
            "Epoch 57/200\n",
            "375/375 [==============================] - 1s 2ms/step - loss: 0.3992 - accuracy: 0.7929\n",
            "Epoch 58/200\n",
            "375/375 [==============================] - 1s 2ms/step - loss: 0.4001 - accuracy: 0.7947\n",
            "Epoch 59/200\n",
            "375/375 [==============================] - 1s 2ms/step - loss: 0.3990 - accuracy: 0.7921\n",
            "Epoch 60/200\n",
            "375/375 [==============================] - 1s 2ms/step - loss: 0.4002 - accuracy: 0.7924\n",
            "Epoch 61/200\n",
            "375/375 [==============================] - 1s 2ms/step - loss: 0.3979 - accuracy: 0.7951\n",
            "Epoch 62/200\n",
            "375/375 [==============================] - 1s 2ms/step - loss: 0.3981 - accuracy: 0.7959\n",
            "Epoch 63/200\n",
            "375/375 [==============================] - 1s 2ms/step - loss: 0.3988 - accuracy: 0.7986\n",
            "Epoch 64/200\n",
            "375/375 [==============================] - 1s 2ms/step - loss: 0.3967 - accuracy: 0.7965\n",
            "Epoch 65/200\n",
            "375/375 [==============================] - 1s 2ms/step - loss: 0.3969 - accuracy: 0.7958\n",
            "Epoch 66/200\n",
            "375/375 [==============================] - 1s 2ms/step - loss: 0.3979 - accuracy: 0.7970\n",
            "Epoch 67/200\n",
            "375/375 [==============================] - 1s 2ms/step - loss: 0.3947 - accuracy: 0.7963\n",
            "Epoch 68/200\n",
            "375/375 [==============================] - 1s 2ms/step - loss: 0.3980 - accuracy: 0.7995\n",
            "Epoch 69/200\n",
            "375/375 [==============================] - 1s 2ms/step - loss: 0.3959 - accuracy: 0.7948\n",
            "Epoch 70/200\n",
            "375/375 [==============================] - 1s 2ms/step - loss: 0.3956 - accuracy: 0.7959\n",
            "Epoch 71/200\n",
            "375/375 [==============================] - 1s 2ms/step - loss: 0.3975 - accuracy: 0.7926\n",
            "Epoch 72/200\n",
            "375/375 [==============================] - 1s 2ms/step - loss: 0.3952 - accuracy: 0.7947\n",
            "Epoch 73/200\n",
            "375/375 [==============================] - 1s 2ms/step - loss: 0.3957 - accuracy: 0.7986\n",
            "Epoch 74/200\n",
            "375/375 [==============================] - 1s 2ms/step - loss: 0.3969 - accuracy: 0.7981\n",
            "Epoch 75/200\n",
            "375/375 [==============================] - 1s 2ms/step - loss: 0.3940 - accuracy: 0.8007\n",
            "Epoch 76/200\n",
            "375/375 [==============================] - 1s 2ms/step - loss: 0.3939 - accuracy: 0.7972\n",
            "Epoch 77/200\n",
            "375/375 [==============================] - 1s 2ms/step - loss: 0.3942 - accuracy: 0.7999\n",
            "Epoch 78/200\n",
            "375/375 [==============================] - 1s 2ms/step - loss: 0.3941 - accuracy: 0.8026\n",
            "Epoch 79/200\n",
            "375/375 [==============================] - 1s 2ms/step - loss: 0.3946 - accuracy: 0.7966\n",
            "Epoch 80/200\n",
            "375/375 [==============================] - 1s 2ms/step - loss: 0.3941 - accuracy: 0.7973\n",
            "Epoch 81/200\n",
            "375/375 [==============================] - 1s 2ms/step - loss: 0.3921 - accuracy: 0.8011\n",
            "Epoch 82/200\n",
            "375/375 [==============================] - 1s 2ms/step - loss: 0.3931 - accuracy: 0.8008\n",
            "Epoch 83/200\n",
            "375/375 [==============================] - 1s 2ms/step - loss: 0.3942 - accuracy: 0.7989\n",
            "Epoch 84/200\n",
            "375/375 [==============================] - 1s 2ms/step - loss: 0.3923 - accuracy: 0.8027\n",
            "Epoch 85/200\n",
            "375/375 [==============================] - 1s 2ms/step - loss: 0.3939 - accuracy: 0.8019\n",
            "Epoch 86/200\n",
            "375/375 [==============================] - 1s 2ms/step - loss: 0.3948 - accuracy: 0.7982\n",
            "Epoch 87/200\n",
            "375/375 [==============================] - 1s 2ms/step - loss: 0.3908 - accuracy: 0.7996\n",
            "Epoch 88/200\n",
            "375/375 [==============================] - 1s 2ms/step - loss: 0.3919 - accuracy: 0.8004\n",
            "Epoch 89/200\n",
            "375/375 [==============================] - 1s 2ms/step - loss: 0.3927 - accuracy: 0.8022\n",
            "Epoch 90/200\n",
            "375/375 [==============================] - 1s 2ms/step - loss: 0.3918 - accuracy: 0.8046\n",
            "Epoch 91/200\n",
            "375/375 [==============================] - 1s 2ms/step - loss: 0.3917 - accuracy: 0.8043\n",
            "Epoch 92/200\n",
            "375/375 [==============================] - 1s 2ms/step - loss: 0.3905 - accuracy: 0.8013\n",
            "Epoch 93/200\n",
            "375/375 [==============================] - 1s 2ms/step - loss: 0.3936 - accuracy: 0.7991\n",
            "Epoch 94/200\n",
            "375/375 [==============================] - 1s 2ms/step - loss: 0.3926 - accuracy: 0.7988\n",
            "Epoch 95/200\n",
            "375/375 [==============================] - 1s 2ms/step - loss: 0.3886 - accuracy: 0.8082\n",
            "Epoch 96/200\n",
            "375/375 [==============================] - 1s 2ms/step - loss: 0.3917 - accuracy: 0.8049\n",
            "Epoch 97/200\n",
            "375/375 [==============================] - 1s 2ms/step - loss: 0.3905 - accuracy: 0.8030\n",
            "Epoch 98/200\n",
            "375/375 [==============================] - 1s 2ms/step - loss: 0.3900 - accuracy: 0.8022\n",
            "Epoch 99/200\n",
            "375/375 [==============================] - 1s 2ms/step - loss: 0.3887 - accuracy: 0.8031\n",
            "Epoch 100/200\n",
            "375/375 [==============================] - 1s 2ms/step - loss: 0.3921 - accuracy: 0.8042\n",
            "Epoch 101/200\n",
            "375/375 [==============================] - 1s 2ms/step - loss: 0.3894 - accuracy: 0.8032\n",
            "Epoch 102/200\n",
            "375/375 [==============================] - 1s 2ms/step - loss: 0.3892 - accuracy: 0.8018\n",
            "Epoch 103/200\n",
            "375/375 [==============================] - 1s 2ms/step - loss: 0.3898 - accuracy: 0.8040\n",
            "Epoch 104/200\n",
            "375/375 [==============================] - 1s 2ms/step - loss: 0.3885 - accuracy: 0.8052\n",
            "Epoch 105/200\n",
            "375/375 [==============================] - 1s 2ms/step - loss: 0.3890 - accuracy: 0.8022\n",
            "Epoch 106/200\n",
            "375/375 [==============================] - 1s 2ms/step - loss: 0.3887 - accuracy: 0.8063\n",
            "Epoch 107/200\n",
            "375/375 [==============================] - 1s 2ms/step - loss: 0.3897 - accuracy: 0.8060\n",
            "Epoch 108/200\n",
            "375/375 [==============================] - 1s 2ms/step - loss: 0.3888 - accuracy: 0.8003\n",
            "Epoch 109/200\n",
            "375/375 [==============================] - 1s 2ms/step - loss: 0.3903 - accuracy: 0.8058\n",
            "Epoch 110/200\n",
            "375/375 [==============================] - 1s 2ms/step - loss: 0.3874 - accuracy: 0.8047\n",
            "Epoch 111/200\n",
            "375/375 [==============================] - 1s 2ms/step - loss: 0.3859 - accuracy: 0.8058\n",
            "Epoch 112/200\n",
            "375/375 [==============================] - 1s 2ms/step - loss: 0.3894 - accuracy: 0.8063\n",
            "Epoch 113/200\n",
            "375/375 [==============================] - 1s 2ms/step - loss: 0.3867 - accuracy: 0.8075\n",
            "Epoch 114/200\n",
            "375/375 [==============================] - 1s 2ms/step - loss: 0.3858 - accuracy: 0.8071\n",
            "Epoch 115/200\n",
            "375/375 [==============================] - 1s 2ms/step - loss: 0.3912 - accuracy: 0.8029\n",
            "Epoch 116/200\n",
            "375/375 [==============================] - 1s 2ms/step - loss: 0.3851 - accuracy: 0.8067\n",
            "Epoch 117/200\n",
            "375/375 [==============================] - 1s 2ms/step - loss: 0.3842 - accuracy: 0.8120\n",
            "Epoch 118/200\n",
            "375/375 [==============================] - 1s 2ms/step - loss: 0.3877 - accuracy: 0.8044\n",
            "Epoch 119/200\n",
            "375/375 [==============================] - 1s 2ms/step - loss: 0.3861 - accuracy: 0.8082\n",
            "Epoch 120/200\n",
            "375/375 [==============================] - 1s 2ms/step - loss: 0.3848 - accuracy: 0.8059\n",
            "Epoch 121/200\n",
            "375/375 [==============================] - 1s 2ms/step - loss: 0.3872 - accuracy: 0.8067\n",
            "Epoch 122/200\n",
            "375/375 [==============================] - 1s 2ms/step - loss: 0.3856 - accuracy: 0.8053\n",
            "Epoch 123/200\n",
            "375/375 [==============================] - 1s 2ms/step - loss: 0.3867 - accuracy: 0.8070\n",
            "Epoch 124/200\n",
            "375/375 [==============================] - 1s 2ms/step - loss: 0.3849 - accuracy: 0.8048\n",
            "Epoch 125/200\n",
            "375/375 [==============================] - 1s 2ms/step - loss: 0.3857 - accuracy: 0.8037\n",
            "Epoch 126/200\n",
            "375/375 [==============================] - 1s 2ms/step - loss: 0.3853 - accuracy: 0.8054\n",
            "Epoch 127/200\n",
            "375/375 [==============================] - 1s 2ms/step - loss: 0.3833 - accuracy: 0.8051\n",
            "Epoch 128/200\n",
            "375/375 [==============================] - 1s 2ms/step - loss: 0.3854 - accuracy: 0.8074\n",
            "Epoch 129/200\n",
            "375/375 [==============================] - 1s 2ms/step - loss: 0.3855 - accuracy: 0.8079\n",
            "Epoch 130/200\n",
            "375/375 [==============================] - 1s 2ms/step - loss: 0.3833 - accuracy: 0.8078\n",
            "Epoch 131/200\n",
            "375/375 [==============================] - 1s 2ms/step - loss: 0.3831 - accuracy: 0.8091\n",
            "Epoch 132/200\n",
            "375/375 [==============================] - 1s 2ms/step - loss: 0.3843 - accuracy: 0.8076\n",
            "Epoch 133/200\n",
            "375/375 [==============================] - 1s 2ms/step - loss: 0.3823 - accuracy: 0.8087\n",
            "Epoch 134/200\n",
            "375/375 [==============================] - 1s 2ms/step - loss: 0.3841 - accuracy: 0.8083\n",
            "Epoch 135/200\n",
            "375/375 [==============================] - 1s 2ms/step - loss: 0.3848 - accuracy: 0.8066\n",
            "Epoch 136/200\n",
            "375/375 [==============================] - 1s 2ms/step - loss: 0.3852 - accuracy: 0.8075\n",
            "Epoch 137/200\n",
            "375/375 [==============================] - 1s 2ms/step - loss: 0.3831 - accuracy: 0.8070\n",
            "Epoch 138/200\n",
            "375/375 [==============================] - 1s 2ms/step - loss: 0.3828 - accuracy: 0.8053\n",
            "Epoch 139/200\n",
            "375/375 [==============================] - 1s 2ms/step - loss: 0.3831 - accuracy: 0.8057\n",
            "Epoch 140/200\n",
            "375/375 [==============================] - 1s 2ms/step - loss: 0.3824 - accuracy: 0.8106\n",
            "Epoch 141/200\n",
            "375/375 [==============================] - 1s 2ms/step - loss: 0.3844 - accuracy: 0.8066\n",
            "Epoch 142/200\n",
            "375/375 [==============================] - 1s 2ms/step - loss: 0.3833 - accuracy: 0.8098\n",
            "Epoch 143/200\n",
            "375/375 [==============================] - 1s 2ms/step - loss: 0.3849 - accuracy: 0.8062\n",
            "Epoch 144/200\n",
            "375/375 [==============================] - 1s 2ms/step - loss: 0.3831 - accuracy: 0.8085\n",
            "Epoch 145/200\n",
            "375/375 [==============================] - 1s 2ms/step - loss: 0.3792 - accuracy: 0.8107\n",
            "Epoch 146/200\n",
            "375/375 [==============================] - 1s 2ms/step - loss: 0.3813 - accuracy: 0.8105\n",
            "Epoch 147/200\n",
            "375/375 [==============================] - 1s 2ms/step - loss: 0.3827 - accuracy: 0.8073\n",
            "Epoch 148/200\n",
            "375/375 [==============================] - 1s 2ms/step - loss: 0.3827 - accuracy: 0.8091\n",
            "Epoch 149/200\n",
            "375/375 [==============================] - 1s 2ms/step - loss: 0.3795 - accuracy: 0.8115\n",
            "Epoch 150/200\n",
            "375/375 [==============================] - 1s 2ms/step - loss: 0.3785 - accuracy: 0.8076\n",
            "Epoch 151/200\n",
            "375/375 [==============================] - 1s 2ms/step - loss: 0.3846 - accuracy: 0.8103\n",
            "Epoch 152/200\n",
            "375/375 [==============================] - 1s 2ms/step - loss: 0.3818 - accuracy: 0.8089\n",
            "Epoch 153/200\n",
            "375/375 [==============================] - 1s 2ms/step - loss: 0.3793 - accuracy: 0.8113\n",
            "Epoch 154/200\n",
            "375/375 [==============================] - 1s 2ms/step - loss: 0.3796 - accuracy: 0.8107\n",
            "Epoch 155/200\n",
            "375/375 [==============================] - 1s 2ms/step - loss: 0.3815 - accuracy: 0.8130\n",
            "Epoch 156/200\n",
            "375/375 [==============================] - 1s 2ms/step - loss: 0.3794 - accuracy: 0.8122\n",
            "Epoch 157/200\n",
            "375/375 [==============================] - 1s 2ms/step - loss: 0.3807 - accuracy: 0.8111\n",
            "Epoch 158/200\n",
            "375/375 [==============================] - 1s 2ms/step - loss: 0.3794 - accuracy: 0.8128\n",
            "Epoch 159/200\n",
            "375/375 [==============================] - 1s 2ms/step - loss: 0.3776 - accuracy: 0.8117\n",
            "Epoch 160/200\n",
            "375/375 [==============================] - 1s 2ms/step - loss: 0.3779 - accuracy: 0.8120\n",
            "Epoch 161/200\n",
            "375/375 [==============================] - 1s 2ms/step - loss: 0.3803 - accuracy: 0.8112\n",
            "Epoch 162/200\n",
            "375/375 [==============================] - 1s 2ms/step - loss: 0.3789 - accuracy: 0.8101\n",
            "Epoch 163/200\n",
            "375/375 [==============================] - 1s 2ms/step - loss: 0.3796 - accuracy: 0.8094\n",
            "Epoch 164/200\n",
            "375/375 [==============================] - 1s 2ms/step - loss: 0.3762 - accuracy: 0.8105\n",
            "Epoch 165/200\n",
            "375/375 [==============================] - 1s 2ms/step - loss: 0.3773 - accuracy: 0.8119\n",
            "Epoch 166/200\n",
            "375/375 [==============================] - 1s 2ms/step - loss: 0.3809 - accuracy: 0.8118\n",
            "Epoch 167/200\n",
            "375/375 [==============================] - 1s 2ms/step - loss: 0.3794 - accuracy: 0.8109\n",
            "Epoch 168/200\n",
            "375/375 [==============================] - 1s 2ms/step - loss: 0.3803 - accuracy: 0.8093\n",
            "Epoch 169/200\n",
            "375/375 [==============================] - 1s 2ms/step - loss: 0.3784 - accuracy: 0.8121\n",
            "Epoch 170/200\n",
            "375/375 [==============================] - 1s 2ms/step - loss: 0.3774 - accuracy: 0.8132\n",
            "Epoch 171/200\n",
            "375/375 [==============================] - 1s 2ms/step - loss: 0.3755 - accuracy: 0.8156\n",
            "Epoch 172/200\n",
            "375/375 [==============================] - 1s 2ms/step - loss: 0.3780 - accuracy: 0.8113\n",
            "Epoch 173/200\n",
            "375/375 [==============================] - 1s 2ms/step - loss: 0.3790 - accuracy: 0.8097\n",
            "Epoch 174/200\n",
            "375/375 [==============================] - 1s 2ms/step - loss: 0.3758 - accuracy: 0.8125\n",
            "Epoch 175/200\n",
            "375/375 [==============================] - 1s 2ms/step - loss: 0.3787 - accuracy: 0.8097\n",
            "Epoch 176/200\n",
            "375/375 [==============================] - 1s 2ms/step - loss: 0.3755 - accuracy: 0.8152\n",
            "Epoch 177/200\n",
            "375/375 [==============================] - 1s 2ms/step - loss: 0.3782 - accuracy: 0.8119\n",
            "Epoch 178/200\n",
            "375/375 [==============================] - 1s 2ms/step - loss: 0.3764 - accuracy: 0.8122\n",
            "Epoch 179/200\n",
            "375/375 [==============================] - 1s 2ms/step - loss: 0.3773 - accuracy: 0.8127\n",
            "Epoch 180/200\n",
            "375/375 [==============================] - 1s 2ms/step - loss: 0.3751 - accuracy: 0.8149\n",
            "Epoch 181/200\n",
            "375/375 [==============================] - 1s 2ms/step - loss: 0.3769 - accuracy: 0.8114\n",
            "Epoch 182/200\n",
            "375/375 [==============================] - 1s 2ms/step - loss: 0.3764 - accuracy: 0.8137\n",
            "Epoch 183/200\n",
            "375/375 [==============================] - 1s 2ms/step - loss: 0.3757 - accuracy: 0.8141\n",
            "Epoch 184/200\n",
            "375/375 [==============================] - 1s 2ms/step - loss: 0.3764 - accuracy: 0.8152\n",
            "Epoch 185/200\n",
            "375/375 [==============================] - 1s 2ms/step - loss: 0.3759 - accuracy: 0.8142\n",
            "Epoch 186/200\n",
            "375/375 [==============================] - 1s 2ms/step - loss: 0.3779 - accuracy: 0.8097\n",
            "Epoch 187/200\n",
            "375/375 [==============================] - 1s 2ms/step - loss: 0.3758 - accuracy: 0.8095\n",
            "Epoch 188/200\n",
            "375/375 [==============================] - 1s 2ms/step - loss: 0.3729 - accuracy: 0.8200\n",
            "Epoch 189/200\n",
            "375/375 [==============================] - 1s 2ms/step - loss: 0.3718 - accuracy: 0.8132\n",
            "Epoch 190/200\n",
            "375/375 [==============================] - 1s 2ms/step - loss: 0.3730 - accuracy: 0.8157\n",
            "Epoch 191/200\n",
            "375/375 [==============================] - 1s 2ms/step - loss: 0.3845 - accuracy: 0.8032\n",
            "Epoch 192/200\n",
            "375/375 [==============================] - 1s 2ms/step - loss: 0.3770 - accuracy: 0.8140\n",
            "Epoch 193/200\n",
            "375/375 [==============================] - 1s 2ms/step - loss: 0.3731 - accuracy: 0.8124\n",
            "Epoch 194/200\n",
            "375/375 [==============================] - 1s 2ms/step - loss: 0.3759 - accuracy: 0.8161\n",
            "Epoch 195/200\n",
            "375/375 [==============================] - 1s 2ms/step - loss: 0.3748 - accuracy: 0.8153\n",
            "Epoch 196/200\n",
            "375/375 [==============================] - 1s 2ms/step - loss: 0.3790 - accuracy: 0.8063\n",
            "Epoch 197/200\n",
            "375/375 [==============================] - 1s 2ms/step - loss: 0.3737 - accuracy: 0.8140\n",
            "Epoch 198/200\n",
            "375/375 [==============================] - 1s 2ms/step - loss: 0.3735 - accuracy: 0.8151\n",
            "Epoch 199/200\n",
            "375/375 [==============================] - 1s 2ms/step - loss: 0.3734 - accuracy: 0.8110\n",
            "Epoch 200/200\n",
            "375/375 [==============================] - 1s 2ms/step - loss: 0.3757 - accuracy: 0.8149\n"
          ]
        },
        {
          "output_type": "execute_result",
          "data": {
            "text/plain": [
              "<keras.callbacks.History at 0x7fe8e3136ed0>"
            ]
          },
          "metadata": {},
          "execution_count": 18
        }
      ]
    },
    {
      "cell_type": "code",
      "source": [
        "y_sonuc = model.predict(X_test)\n",
        "y_sonuc = [0 if val < 0.5 else 1 for val in y_sonuc]"
      ],
      "metadata": {
        "id": "wk0L81hmULcR"
      },
      "execution_count": 19,
      "outputs": []
    },
    {
      "cell_type": "code",
      "source": [
        "y_sonuc"
      ],
      "metadata": {
        "id": "lHcUMF7gUV03"
      },
      "execution_count": null,
      "outputs": []
    },
    {
      "cell_type": "code",
      "source": [
        "accuracy_score(y_test, y_sonuc)"
      ],
      "metadata": {
        "id": "n18K1cafUcMW",
        "colab": {
          "base_uri": "https://localhost:8080/"
        },
        "outputId": "2e0d2745-34ee-43f0-9572-814fff19b415"
      },
      "execution_count": 21,
      "outputs": [
        {
          "output_type": "execute_result",
          "data": {
            "text/plain": [
              "0.8246666666666667"
            ]
          },
          "metadata": {},
          "execution_count": 21
        }
      ]
    },
    {
      "cell_type": "code",
      "source": [
        "X_test"
      ],
      "metadata": {
        "id": "e7UJ9Jqhcynp"
      },
      "execution_count": null,
      "outputs": []
    },
    {
      "cell_type": "code",
      "source": [
        "deneme = pd.read_excel('deneme.xlsx')"
      ],
      "metadata": {
        "id": "k9mHPrhreO4N"
      },
      "execution_count": 24,
      "outputs": []
    },
    {
      "cell_type": "code",
      "source": [
        "deneme_sonuc = model.predict(deneme)"
      ],
      "metadata": {
        "id": "5qbhY2xGhN39"
      },
      "execution_count": 25,
      "outputs": []
    },
    {
      "cell_type": "code",
      "source": [
        "deneme_sonuc"
      ],
      "metadata": {
        "id": "nWsTu6_UhTTf",
        "outputId": "1cd7e6c0-09c8-4cd8-dd91-24180fe07778",
        "colab": {
          "base_uri": "https://localhost:8080/"
        }
      },
      "execution_count": 26,
      "outputs": [
        {
          "output_type": "execute_result",
          "data": {
            "text/plain": [
              "array([[0.635056  ],\n",
              "       [0.51566535],\n",
              "       [0.38945112]], dtype=float32)"
            ]
          },
          "metadata": {},
          "execution_count": 26
        }
      ]
    },
    {
      "cell_type": "code",
      "source": [
        "deneme_sonuc = [0 if val < 0.5 else 1 for val in deneme_sonuc]\n",
        "deneme_sonuc"
      ],
      "metadata": {
        "id": "ctl3Q8cxlQBr",
        "colab": {
          "base_uri": "https://localhost:8080/"
        },
        "outputId": "5be822c9-f966-46d1-d30b-d7efc62c17bc"
      },
      "execution_count": 27,
      "outputs": [
        {
          "output_type": "execute_result",
          "data": {
            "text/plain": [
              "[1, 1, 0]"
            ]
          },
          "metadata": {},
          "execution_count": 27
        }
      ]
    },
    {
      "cell_type": "code",
      "source": [
        "model.save('tfmodel')"
      ],
      "metadata": {
        "id": "uugBW8BmUkLe"
      },
      "execution_count": null,
      "outputs": []
    },
    {
      "cell_type": "code",
      "source": [
        "del model "
      ],
      "metadata": {
        "id": "3Z94No4VUzsY"
      },
      "execution_count": null,
      "outputs": []
    },
    {
      "cell_type": "code",
      "source": [
        "model = load_model('tfmodel')"
      ],
      "metadata": {
        "id": "T0vBvm-jU6-W"
      },
      "execution_count": null,
      "outputs": []
    }
  ]
}